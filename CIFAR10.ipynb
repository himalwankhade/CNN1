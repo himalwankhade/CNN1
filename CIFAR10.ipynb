{
 "cells": [
  {
   "cell_type": "code",
   "execution_count": 1,
   "metadata": {},
   "outputs": [],
   "source": [
    "import tensorflow as tf\n",
    "from tensorflow.keras import datasets, layers, models\n",
    "import matplotlib.pyplot as plt\n",
    "import numpy as np"
   ]
  },
  {
   "cell_type": "code",
   "execution_count": 3,
   "metadata": {},
   "outputs": [],
   "source": [
    "(X_train, y_train), (X_test,y_test) = datasets.cifar10.load_data()"
   ]
  },
  {
   "cell_type": "code",
   "execution_count": 4,
   "metadata": {},
   "outputs": [
    {
     "data": {
      "text/plain": [
       "(50000, 32, 32, 3)"
      ]
     },
     "execution_count": 4,
     "metadata": {},
     "output_type": "execute_result"
    }
   ],
   "source": [
    "X_train.shape"
   ]
  },
  {
   "cell_type": "code",
   "execution_count": 5,
   "metadata": {},
   "outputs": [
    {
     "data": {
      "text/plain": [
       "(10000, 32, 32, 3)"
      ]
     },
     "execution_count": 5,
     "metadata": {},
     "output_type": "execute_result"
    }
   ],
   "source": [
    "X_test.shape"
   ]
  },
  {
   "cell_type": "code",
   "execution_count": 6,
   "metadata": {},
   "outputs": [
    {
     "data": {
      "text/plain": [
       "(50000, 1)"
      ]
     },
     "execution_count": 6,
     "metadata": {},
     "output_type": "execute_result"
    }
   ],
   "source": [
    "y_train.shape"
   ]
  },
  {
   "cell_type": "code",
   "execution_count": 8,
   "metadata": {},
   "outputs": [
    {
     "data": {
      "text/plain": [
       "array([[6],\n",
       "       [9],\n",
       "       [9],\n",
       "       [4],\n",
       "       [1]], dtype=uint8)"
      ]
     },
     "execution_count": 8,
     "metadata": {},
     "output_type": "execute_result"
    }
   ],
   "source": [
    "y_train[:5]"
   ]
  },
  {
   "cell_type": "code",
   "execution_count": 10,
   "metadata": {},
   "outputs": [
    {
     "data": {
      "text/plain": [
       "array([6, 9, 9, 4, 1], dtype=uint8)"
      ]
     },
     "execution_count": 10,
     "metadata": {},
     "output_type": "execute_result"
    }
   ],
   "source": [
    "y_train = y_train.reshape(-1,)  #converting 1D from 2D\n",
    "y_train[:5]"
   ]
  },
  {
   "cell_type": "code",
   "execution_count": 40,
   "metadata": {},
   "outputs": [],
   "source": [
    "\n",
    "y_test = y_test.reshape(-1,)"
   ]
  },
  {
   "cell_type": "code",
   "execution_count": 13,
   "metadata": {},
   "outputs": [],
   "source": [
    "classes = [\"airplane\",\"automobile\",\"bird\",\"cat\",\"deer\",\"dog\",\"frog\",\"horse\",\"ship\",\"truck\"]"
   ]
  },
  {
   "cell_type": "code",
   "execution_count": 22,
   "metadata": {},
   "outputs": [],
   "source": [
    "def plot_sample(X, y, index):\n",
    "    plt.figure(figsize = (15,2))\n",
    "    plt.imshow(X[index])\n",
    "    plt.xlabel(classes[y[index]])"
   ]
  },
  {
   "cell_type": "code",
   "execution_count": 30,
   "metadata": {},
   "outputs": [
    {
     "data": {
      "image/png": "[encoded data removed]",
      "text/plain": [
       "<Figure size 1080x144 with 1 Axes>"
      ]
     },
     "metadata": {
      "needs_background": "light"
     },
     "output_type": "display_data"
    }
   ],
   "source": [
    "plot_sample(X_train, y_train, 3)"
   ]
  },
  {
   "cell_type": "code",
   "execution_count": 25,
   "metadata": {},
   "outputs": [
    {
     "data": {
      "image/png": "[encoded data removed]",
      "text/plain": [
       "<Figure size 1080x144 with 1 Axes>"
      ]
     },
     "metadata": {
      "needs_background": "light"
     },
     "output_type": "display_data"
    }
   ],
   "source": [
    "\n",
    "plot_sample(X_train, y_train, 4)"
   ]
  },
  {
   "cell_type": "code",
   "execution_count": 31,
   "metadata": {},
   "outputs": [],
   "source": [
    "X_train = X_train / 255.0  #Normalizing into 0 to 1 range\n",
    "X_test = X_test / 255.0"
   ]
  },
  {
   "cell_type": "code",
   "execution_count": 32,
   "metadata": {},
   "outputs": [],
   "source": [
    "cnn = models.Sequential([\n",
    "    layers.Conv2D(filters=32, kernel_size=(3, 3), activation='relu', input_shape=(32, 32, 3)),\n",
    "    layers.MaxPooling2D((2, 2)),\n",
    "    \n",
    "    layers.Conv2D(filters=64, kernel_size=(3, 3), activation='relu'),\n",
    "    layers.MaxPooling2D((2, 2)),\n",
    "    \n",
    "    layers.Flatten(),\n",
    "    layers.Dense(64, activation='relu'),\n",
    "    layers.Dense(10, activation='softmax')\n",
    "])"
   ]
  },
  {
   "cell_type": "code",
   "execution_count": 33,
   "metadata": {},
   "outputs": [],
   "source": [
    "cnn.compile(optimizer='adam',\n",
    "              loss='sparse_categorical_crossentropy',\n",
    "              metrics=['accuracy'])"
   ]
  },
  {
   "cell_type": "code",
   "execution_count": 34,
   "metadata": {},
   "outputs": [
    {
     "name": "stdout",
     "output_type": "stream",
     "text": [
      "Epoch 1/20\n",
      "1563/1563 [==============================] - 25s 16ms/step - loss: 1.6785 - accuracy: 0.3954\n",
      "Epoch 2/20\n",
      "1563/1563 [==============================] - 23s 15ms/step - loss: 1.1386 - accuracy: 0.6011\n",
      "Epoch 3/20\n",
      "1563/1563 [==============================] - 24s 15ms/step - loss: 0.9836 - accuracy: 0.65570s -\n",
      "Epoch 4/20\n",
      "1563/1563 [==============================] - 26s 17ms/step - loss: 0.8883 - accuracy: 0.6889\n",
      "Epoch 5/20\n",
      "1563/1563 [==============================] - 25s 16ms/step - loss: 0.8335 - accuracy: 0.7096\n",
      "Epoch 6/20\n",
      "1563/1563 [==============================] - 26s 17ms/step - loss: 0.7776 - accuracy: 0.72720s - loss: 0.7776 - accura\n",
      "Epoch 7/20\n",
      "1563/1563 [==============================] - 28s 18ms/step - loss: 0.7109 - accuracy: 0.7538\n",
      "Epoch 8/20\n",
      "1563/1563 [==============================] - 31s 20ms/step - loss: 0.6644 - accuracy: 0.7671\n",
      "Epoch 9/20\n",
      "1563/1563 [==============================] - 29s 18ms/step - loss: 0.6163 - accuracy: 0.7879\n",
      "Epoch 10/20\n",
      "1563/1563 [==============================] - 28s 18ms/step - loss: 0.5833 - accuracy: 0.7980\n",
      "Epoch 11/20\n",
      "1563/1563 [==============================] - 29s 18ms/step - loss: 0.5348 - accuracy: 0.8127\n",
      "Epoch 12/20\n",
      "1563/1563 [==============================] - 29s 19ms/step - loss: 0.5157 - accuracy: 0.8182\n",
      "Epoch 13/20\n",
      "1563/1563 [==============================] - 32s 20ms/step - loss: 0.4930 - accuracy: 0.8277\n",
      "Epoch 14/20\n",
      "1563/1563 [==============================] - 36s 23ms/step - loss: 0.4536 - accuracy: 0.8398\n",
      "Epoch 15/20\n",
      "1563/1563 [==============================] - 31s 20ms/step - loss: 0.4255 - accuracy: 0.8515\n",
      "Epoch 16/20\n",
      "1563/1563 [==============================] - 29s 19ms/step - loss: 0.3918 - accuracy: 0.8626\n",
      "Epoch 17/20\n",
      "1563/1563 [==============================] - 30s 19ms/step - loss: 0.3669 - accuracy: 0.8696\n",
      "Epoch 18/20\n",
      "1563/1563 [==============================] - 30s 19ms/step - loss: 0.3528 - accuracy: 0.8748\n",
      "Epoch 19/20\n",
      "1563/1563 [==============================] - 32s 20ms/step - loss: 0.3290 - accuracy: 0.8852\n",
      "Epoch 20/20\n",
      "1563/1563 [==============================] - 31s 20ms/step - loss: 0.3027 - accuracy: 0.8931\n"
     ]
    },
    {
     "data": {
      "text/plain": [
       "<tensorflow.python.keras.callbacks.History at 0x2326ccf1610>"
      ]
     },
     "execution_count": 34,
     "metadata": {},
     "output_type": "execute_result"
    }
   ],
   "source": [
    "cnn.fit(X_train, y_train, epochs=20)"
   ]
  },
  {
   "cell_type": "code",
   "execution_count": 41,
   "metadata": {},
   "outputs": [
    {
     "name": "stdout",
     "output_type": "stream",
     "text": [
      "313/313 [==============================] - 2s 6ms/step - loss: 1.3607 - accuracy: 0.6699\n"
     ]
    },
    {
     "data": {
      "text/plain": [
       "[1.3606889247894287, 0.6699000000953674]"
      ]
     },
     "execution_count": 41,
     "metadata": {},
     "output_type": "execute_result"
    }
   ],
   "source": [
    "cnn.evaluate(X_test,y_test)"
   ]
  },
  {
   "cell_type": "code",
   "execution_count": 42,
   "metadata": {},
   "outputs": [
    {
     "data": {
      "text/plain": [
       "array([[3.25199210e-07, 1.49256459e-06, 2.50437279e-05, 9.98930156e-01,\n",
       "        1.62383294e-04, 8.94492769e-05, 7.48357794e-04, 1.31263285e-08,\n",
       "        1.51876156e-05, 2.75037892e-05],\n",
       "       [4.47052116e-06, 2.08707079e-02, 3.53166997e-12, 3.69048236e-10,\n",
       "        8.99363862e-14, 6.84308228e-14, 6.20835393e-16, 1.69600084e-16,\n",
       "        9.79124725e-01, 1.25068112e-07],\n",
       "       [4.50573653e-01, 8.32736790e-02, 1.23046071e-03, 4.55769850e-03,\n",
       "        8.38085040e-02, 4.30526696e-02, 1.52524008e-04, 8.74188095e-02,\n",
       "        1.48750156e-01, 9.71818641e-02],\n",
       "       [9.42174673e-01, 1.19403691e-03, 1.17743639e-02, 6.04822824e-04,\n",
       "        1.86535921e-02, 5.79185871e-06, 5.25899559e-05, 1.81822813e-07,\n",
       "        2.55376827e-02, 2.17666866e-06],\n",
       "       [2.58399940e-10, 3.61059698e-08, 4.12678765e-03, 2.03286111e-03,\n",
       "        5.77344745e-02, 6.34341923e-05, 9.36042309e-01, 3.53909191e-09,\n",
       "        3.57073295e-11, 8.61681642e-08]], dtype=float32)"
      ]
     },
     "execution_count": 42,
     "metadata": {},
     "output_type": "execute_result"
    }
   ],
   "source": [
    "y_pred = cnn.predict(X_test)\n",
    "y_pred[:5]"
   ]
  },
  {
   "cell_type": "code",
   "execution_count": 43,
   "metadata": {},
   "outputs": [
    {
     "data": {
      "text/plain": [
       "[3, 8, 0, 0, 6]"
      ]
     },
     "execution_count": 43,
     "metadata": {},
     "output_type": "execute_result"
    }
   ],
   "source": [
    "y_classes = [np.argmax(element) for element in y_pred]\n",
    "y_classes[:5]"
   ]
  },
  {
   "cell_type": "code",
   "execution_count": 44,
   "metadata": {},
   "outputs": [
    {
     "data": {
      "text/plain": [
       "array([3, 8, 8, 0, 6], dtype=uint8)"
      ]
     },
     "execution_count": 44,
     "metadata": {},
     "output_type": "execute_result"
    }
   ],
   "source": [
    "y_test[:5]"
   ]
  },
  {
   "cell_type": "code",
   "execution_count": 45,
   "metadata": {},
   "outputs": [
    {
     "data": {
      "image/png": "[encoded data removed]",
      "text/plain": [
       "<Figure size 1080x144 with 1 Axes>"
      ]
     },
     "metadata": {
      "needs_background": "light"
     },
     "output_type": "display_data"
    }
   ],
   "source": [
    "plot_sample(X_test, y_test,3)"
   ]
  },
  {
   "cell_type": "code",
   "execution_count": 46,
   "metadata": {},
   "outputs": [
    {
     "data": {
      "text/plain": [
       "'airplane'"
      ]
     },
     "execution_count": 46,
     "metadata": {},
     "output_type": "execute_result"
    }
   ],
   "source": [
    "\n",
    "classes[y_classes[3]]"
   ]
  },
  {
   "cell_type": "code",
   "execution_count": null,
   "metadata": {},
   "outputs": [],
   "source": []
  }
 ],
 "metadata": {
  "kernelspec": {
   "display_name": "Python 3",
   "language": "python",
   "name": "python3"
  },
  "language_info": {
   "codemirror_mode": {
    "name": "ipython",
    "version": 3
   },
   "file_extension": ".py",
   "mimetype": "text/x-python",
   "name": "python",
   "nbconvert_exporter": "python",
   "pygments_lexer": "ipython3",
   "version": "3.8.5"
  }
 },
 "nbformat": 4,
 "nbformat_minor": 4
}
